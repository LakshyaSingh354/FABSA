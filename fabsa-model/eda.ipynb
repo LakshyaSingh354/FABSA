{
 "cells": [
  {
   "cell_type": "code",
   "execution_count": 48,
   "metadata": {},
   "outputs": [],
   "source": [
    "import pandas as pd\n",
    "import numpy as np\n",
    "import matplotlib.pyplot as plt\n",
    "import ast\n",
    "\n",
    "import warnings\n",
    "warnings.filterwarnings(\"ignore\")"
   ]
  },
  {
   "cell_type": "code",
   "execution_count": 62,
   "metadata": {},
   "outputs": [
    {
     "name": "stdout",
     "output_type": "stream",
     "text": [
      "10753\n"
     ]
    }
   ],
   "source": [
    "data = pd.read_csv('SEntFiN.csv')\n",
    "print(len(data))\n",
    "decisions = data['Decisions']\n",
    "decisions_dicts = [ast.literal_eval(decision) for decision in decisions]"
   ]
  },
  {
   "cell_type": "code",
   "execution_count": 60,
   "metadata": {},
   "outputs": [
    {
     "data": {
      "image/png": "[encoded data removed]",
      "text/plain": [
       "<Figure size 640x480 with 1 Axes>"
      ]
     },
     "metadata": {},
     "output_type": "display_data"
    }
   ],
   "source": [
    "plt.bar(np.unique(values, return_counts=True)[0], np.unique(values, return_counts=True)[1])\n",
    "plt.show()"
   ]
  },
  {
   "cell_type": "code",
   "execution_count": null,
   "metadata": {},
   "outputs": [],
   "source": [
    "from rapidfuzz import process, fuzz\n",
    "\n",
    "def fuzzy_replace(headline, target_entity, threshold=35):\n",
    "    headline = headline.lower()\n",
    "    target_entity = target_entity.lower()\n",
    "    words = headline.split()\n",
    "    best_match = process.extractOne(target_entity, words, scorer=fuzz.partial_ratio)\n",
    "    if best_match and best_match[1] >= threshold:\n",
    "        matched_word = best_match[0]\n",
    "        return headline.replace(matched_word, \"[TGT]\")\n",
    "    return headline"
   ]
  },
  {
   "cell_type": "code",
   "execution_count": null,
   "metadata": {},
   "outputs": [],
   "source": [
    "from optimum.onnxruntime import ORTModelForSequenceClassification\n",
    "from transformers import AutoTokenizer\n",
    "\n",
    "onnx_model = ORTModelForSequenceClassification.from_pretrained(\"onnx/\")\n",
    "tokenizer = AutoTokenizer.from_pretrained(\"onnx/\")\n",
    "\n",
    "text = \"TSLA stocks dropped 42% while SMSN rallied.\"\n",
    "entity = \"Sensex\"\n",
    "text = fuzzy_replace(text, entity)\n",
    "inputs = tokenizer(text, return_tensors=\"pt\", truncation=False, padding=True)\n",
    "\n",
    "outputs = onnx_model(**inputs)\n",
    "predicted_class = int(outputs.logits.argmax())\n",
    "print(f\"Predicted Sentiment: {predicted_class}\")"
   ]
  },
  {
   "cell_type": "code",
   "execution_count": null,
   "metadata": {},
   "outputs": [],
   "source": []
  }
 ],
 "metadata": {
  "kernelspec": {
   "display_name": "base",
   "language": "python",
   "name": "python3"
  },
  "language_info": {
   "codemirror_mode": {
    "name": "ipython",
    "version": 3
   },
   "file_extension": ".py",
   "mimetype": "text/x-python",
   "name": "python",
   "nbconvert_exporter": "python",
   "pygments_lexer": "ipython3",
   "version": "3.11.10"
  }
 },
 "nbformat": 4,
 "nbformat_minor": 2
}
